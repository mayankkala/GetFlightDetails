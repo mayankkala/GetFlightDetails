{
 "cells": [
  {
   "cell_type": "code",
   "execution_count": 41,
   "metadata": {},
   "outputs": [],
   "source": [
    "import openai\n",
    "import os\n",
    "import requests\n",
    "import json\n",
    "from dotenv import load_dotenv\n",
    "load_dotenv()\n",
    "from serpapi import GoogleSearch\n",
    "\n",
    "\n"
   ]
  },
  {
   "cell_type": "code",
   "execution_count": 42,
   "metadata": {},
   "outputs": [],
   "source": [
    "from openai import OpenAI\n",
    "client=OpenAI(\n",
    "api_key=os.environ.get(\"OPENAI_API_KEY\")\n",
    ")\n"
   ]
  },
  {
   "cell_type": "code",
   "execution_count": 43,
   "metadata": {},
   "outputs": [],
   "source": [
    "completion=client.chat.completions.create(\n",
    "    model=\"gpt-4o\",\n",
    "    messages= [\n",
    "        {\"role\":\"system\", \"content\": \"you are helpful assistant, which give details about real time of different flights.\"},\n",
    "        {\"role\":\"user\", \"content\":\"tell me the flight details from Jaipur to Delhi for today \"}\n",
    "       ],\n",
    "     max_tokens=50, \n",
    "     temperature=0.8\n",
    ")"
   ]
  },
  {
   "cell_type": "code",
   "execution_count": 44,
   "metadata": {},
   "outputs": [
    {
     "data": {
      "text/plain": [
       "ChatCompletion(id='chatcmpl-9Y9QUnXc7jer5LSZ6Hv5pUfR8b8E8', choices=[Choice(finish_reason='length', index=0, logprobs=None, message=ChatCompletionMessage(content=\"I'm really sorry, but I don't have access to real-time data. However, you can easily find the flight details from Jaipur to Delhi for today by checking the official websites of airlines, using flight tracking apps like FlightAware or FlightRadar24, or\", role='assistant', function_call=None, tool_calls=None))], created=1717926414, model='gpt-4o-2024-05-13', object='chat.completion', system_fingerprint='fp_319be4768e', usage=CompletionUsage(completion_tokens=50, prompt_tokens=38, total_tokens=88))"
      ]
     },
     "execution_count": 44,
     "metadata": {},
     "output_type": "execute_result"
    }
   ],
   "source": [
    "completion"
   ]
  },
  {
   "cell_type": "code",
   "execution_count": 5,
   "metadata": {},
   "outputs": [
    {
     "name": "stdout",
     "output_type": "stream",
     "text": [
      "I don't have real-time capabilities to provide current flight details. However, you can check the latest flight details from Jaipur to Delhi for today through the following methods:\n",
      "\n",
      "1. **Airline Websites**: Major airlines such as Air India, IndiGo,\n"
     ]
    }
   ],
   "source": [
    "output=completion.choices[0].message.content\n",
    "print(output)"
   ]
  },
  {
   "cell_type": "code",
   "execution_count": 45,
   "metadata": {},
   "outputs": [],
   "source": [
    "function_description =[\n",
    "             \n",
    "                    {\n",
    "                \"name\": \"get_flight_details\",\n",
    "                \"description\": \"Get a real time flight details\",\n",
    "                \"parameters\": {\n",
    "                    \"type\": \"object\",\n",
    "                    \"properties\": {\n",
    "                        \"start_location\": {\n",
    "                            \"type\": \"string\",\n",
    "                            \"description\": \"The departure airport, e.g. HYD, Hyderabad,\",\n",
    "                        },\n",
    "                        \"end_location\": {\n",
    "                            \"type\": \"string\",\n",
    "                            \"description\": \"The destination airport, e.g. MAA, Chennai\",\n",
    "                        },\n",
    "                        \n",
    "                        \"date\": {\n",
    "                            \"type\": \"string\",\n",
    "                            \"description\": \"The format is YYYY-MM-DD. e.g. 2024-05-21\"\n",
    "                        }\n",
    "                    },\n",
    "                    \"required\": [\"start_location\", \"end_location\"],\n",
    "                },\n",
    "            },\n",
    "        \n",
    "     ] "
   ]
  },
  {
   "cell_type": "code",
   "execution_count": 46,
   "metadata": {},
   "outputs": [],
   "source": [
    "user_prompt=\"tell me the flight details from Hyderabad to Delhi on 2024-06-29\"\n",
    "completion=client.chat.completions.create(\n",
    "    model=\"gpt-3.5-turbo\",\n",
    "    messages= [\n",
    "        {\"role\":\"system\", \"content\": \"you are helpful assistant, which give details about real time of different flights.\"},\n",
    "        {\"role\":\"user\", \"content\":user_prompt}\n",
    "       ],\n",
    "     function_call=\"auto\",\n",
    "     functions=function_description, \n",
    "     max_tokens=50\n",
    ")"
   ]
  },
  {
   "cell_type": "code",
   "execution_count": 47,
   "metadata": {},
   "outputs": [
    {
     "data": {
      "text/plain": [
       "ChatCompletion(id='chatcmpl-9Y9QgkQrCPDzKatJTFaGk481OstOV', choices=[Choice(finish_reason='function_call', index=0, logprobs=None, message=ChatCompletionMessage(content=None, role='assistant', function_call=FunctionCall(arguments='{\"start_location\":\"HYD\",\"end_location\":\"DEL\",\"date\":\"2024-06-29\"}', name='get_flight_details'), tool_calls=None))], created=1717926426, model='gpt-3.5-turbo-0125', object='chat.completion', system_fingerprint=None, usage=CompletionUsage(completion_tokens=31, prompt_tokens=134, total_tokens=165))"
      ]
     },
     "execution_count": 47,
     "metadata": {},
     "output_type": "execute_result"
    }
   ],
   "source": [
    "completion"
   ]
  },
  {
   "cell_type": "code",
   "execution_count": 48,
   "metadata": {},
   "outputs": [
    {
     "name": "stdout",
     "output_type": "stream",
     "text": [
      "ChatCompletionMessage(content=None, role='assistant', function_call=FunctionCall(arguments='{\"start_location\":\"HYD\",\"end_location\":\"DEL\",\"date\":\"2024-06-29\"}', name='get_flight_details'), tool_calls=None)\n"
     ]
    }
   ],
   "source": [
    "output=completion.choices[0].message\n",
    "print(output)"
   ]
  },
  {
   "cell_type": "code",
   "execution_count": 49,
   "metadata": {},
   "outputs": [],
   "source": [
    "def get_flight_details(start_location, end_location, date):\n",
    "    params = {\n",
    "        \"engine\": \"google_flights\",\n",
    "        \"departure_id\": start_location,\n",
    "        \"arrival_id\": end_location,\n",
    "        \"outbound_date\": date,\n",
    "        \"type\": \"2\",\n",
    "        \"api_key\": \"d306465a635303b2799c40fc08769bf89bf33a7a5d8c67c76c414a2570fe2641\"\n",
    "    }\n",
    "\n",
    "    search = GoogleSearch(params)\n",
    "    results = search.get_dict()\n",
    "\n",
    "    print(results)\n",
    "    return results\n",
    "  \n",
    "\n"
   ]
  },
  {
   "cell_type": "code",
   "execution_count": 59,
   "metadata": {},
   "outputs": [
    {
     "data": {
      "text/plain": [
       "str"
      ]
     },
     "execution_count": 59,
     "metadata": {},
     "output_type": "execute_result"
    }
   ],
   "source": [
    "type(output.function_call.arguments)"
   ]
  },
  {
   "cell_type": "code",
   "execution_count": 57,
   "metadata": {},
   "outputs": [],
   "source": [
    "start=json.loads(output.function_call.arguments).get(\"start_location\")\n",
    "end=json.loads(output.function_call.arguments).get(\"end_location\")\n",
    "date=json.loads(output.function_call.arguments).get(\"date\")\n",
    "params=json.loads(output.function_call.arguments)\n"
   ]
  },
  {
   "cell_type": "code",
   "execution_count": null,
   "metadata": {},
   "outputs": [],
   "source": []
  },
  {
   "cell_type": "code",
   "execution_count": 52,
   "metadata": {},
   "outputs": [
    {
     "data": {
      "text/plain": [
       "dict"
      ]
     },
     "execution_count": 52,
     "metadata": {},
     "output_type": "execute_result"
    }
   ],
   "source": [
    "type(params)"
   ]
  },
  {
   "cell_type": "code",
   "execution_count": 53,
   "metadata": {},
   "outputs": [
    {
     "name": "stdout",
     "output_type": "stream",
     "text": [
      "HYD\n",
      "DEL\n",
      "{'start_location': 'HYD', 'end_location': 'DEL', 'date': '2024-06-29'}\n"
     ]
    }
   ],
   "source": [
    "print(start)\n",
    "print(end)\n",
    "print(params)"
   ]
  },
  {
   "cell_type": "code",
   "execution_count": 58,
   "metadata": {},
   "outputs": [
    {
     "name": "stdout",
     "output_type": "stream",
     "text": [
      "{'search_metadata': {'id': '66657bdc5fc493a26161b626', 'status': 'Success', 'json_endpoint': 'https://serpapi.com/searches/44ac0241ff1c3640/66657bdc5fc493a26161b626.json', 'created_at': '2024-06-09 09:54:36 UTC', 'processed_at': '2024-06-09 09:54:36 UTC', 'google_flights_url': 'https://www.google.com/travel/flights?hl=en&gl=us&q=Flights+to+DEL+from+HYD+on+2024-06-29+one-way', 'raw_html_file': 'https://serpapi.com/searches/44ac0241ff1c3640/66657bdc5fc493a26161b626.html', 'prettify_html_file': 'https://serpapi.com/searches/44ac0241ff1c3640/66657bdc5fc493a26161b626.prettify', 'total_time_taken': 0.68}, 'search_parameters': {'engine': 'google_flights', 'hl': 'en', 'gl': 'us', 'type': '2', 'departure_id': 'HYD', 'arrival_id': 'DEL', 'outbound_date': '2024-06-29'}, 'best_flights': [{'flights': [{'departure_airport': {'name': 'Rajiv Gandhi International Airport', 'id': 'HYD', 'time': '2024-06-29 10:30'}, 'arrival_airport': {'name': 'Indira Gandhi International Airport (Delhi Airport)', 'id': 'DEL', 'time': '2024-06-29 12:45'}, 'duration': 135, 'airplane': 'Airbus A321neo', 'airline': 'IndiGo', 'airline_logo': 'https://www.gstatic.com/flights/airline_logos/70px/6E.png', 'travel_class': 'Economy', 'flight_number': '6E 6202', 'legroom': '29 in', 'extensions': ['Below average legroom (29 in)', 'Carbon emissions estimate: 98 kg']}], 'total_duration': 135, 'carbon_emissions': {'this_flight': 99000, 'typical_for_this_route': 103000, 'difference_percent': -4}, 'price': 49, 'type': 'One way', 'airline_logo': 'https://www.gstatic.com/flights/airline_logos/70px/6E.png', 'booking_token': 'WyJDalJJVGxWVmJWaFRkR3BoYnpCQlJtcEpORkZDUnkwdExTMHRMUzB0TFhaMGNXY3hPRUZCUVVGQlIxcHNaVGt3UTBwMFpXZEJFZ1kyUlRZeU1ESWFDZ2lUSmhBQ0dnTlZVMFE0SEhDVEpnPT0iLFtbIkhZRCIsIjIwMjQtMDYtMjkiLCJERUwiLG51bGwsIjZFIiwiNjIwMiJdXV0='}, {'flights': [{'departure_airport': {'name': 'Rajiv Gandhi International Airport', 'id': 'HYD', 'time': '2024-06-29 12:00'}, 'arrival_airport': {'name': 'Indira Gandhi International Airport (Delhi Airport)', 'id': 'DEL', 'time': '2024-06-29 14:20'}, 'duration': 140, 'airplane': 'Airbus A321neo', 'airline': 'IndiGo', 'airline_logo': 'https://www.gstatic.com/flights/airline_logos/70px/6E.png', 'travel_class': 'Economy', 'flight_number': '6E 6031', 'legroom': '29 in', 'extensions': ['Below average legroom (29 in)', 'Carbon emissions estimate: 94 kg']}], 'total_duration': 140, 'carbon_emissions': {'this_flight': 95000, 'typical_for_this_route': 103000, 'difference_percent': -8}, 'price': 49, 'type': 'One way', 'airline_logo': 'https://www.gstatic.com/flights/airline_logos/70px/6E.png', 'booking_token': 'WyJDalJJVGxWVmJWaFRkR3BoYnpCQlJtcEpORkZDUnkwdExTMHRMUzB0TFhaMGNXY3hPRUZCUVVGQlIxcHNaVGt3UTBwMFpXZEJFZ1kyUlRZd016RWFDZ2lUSmhBQ0dnTlZVMFE0SEhDVEpnPT0iLFtbIkhZRCIsIjIwMjQtMDYtMjkiLCJERUwiLG51bGwsIjZFIiwiNjAzMSJdXV0='}, {'flights': [{'departure_airport': {'name': 'Rajiv Gandhi International Airport', 'id': 'HYD', 'time': '2024-06-29 05:30'}, 'arrival_airport': {'name': 'Indira Gandhi International Airport (Delhi Airport)', 'id': 'DEL', 'time': '2024-06-29 07:50'}, 'duration': 140, 'airplane': 'Airbus A319', 'airline': 'Air India', 'airline_logo': 'https://www.gstatic.com/flights/airline_logos/70px/AI.png', 'travel_class': 'Economy', 'flight_number': 'AI 554', 'legroom': '31 in', 'extensions': ['Average legroom (31 in)', 'Carbon emissions estimate: 159 kg']}], 'total_duration': 140, 'carbon_emissions': {'this_flight': 159000, 'typical_for_this_route': 103000, 'difference_percent': 54}, 'price': 58, 'type': 'One way', 'airline_logo': 'https://www.gstatic.com/flights/airline_logos/70px/AI.png', 'booking_token': 'WyJDalJJVGxWVmJWaFRkR3BoYnpCQlJtcEpORkZDUnkwdExTMHRMUzB0TFhaMGNXY3hPRUZCUVVGQlIxcHNaVGt3UTBwMFpXZEJFZ1ZCU1RVMU5Cb0tDUFlzRUFJYUExVlRSRGdjY1BZcyIsW1siSFlEIiwiMjAyNC0wNi0yOSIsIkRFTCIsbnVsbCwiQUkiLCI1NTQiXV1d'}, {'flights': [{'departure_airport': {'name': 'Rajiv Gandhi International Airport', 'id': 'HYD', 'time': '2024-06-29 10:10'}, 'arrival_airport': {'name': 'Indira Gandhi International Airport (Delhi Airport)', 'id': 'DEL', 'time': '2024-06-29 12:30'}, 'duration': 140, 'airplane': 'Airbus A320', 'airline': 'Vistara', 'airline_logo': 'https://www.gstatic.com/flights/airline_logos/70px/UK.png', 'travel_class': 'Economy', 'flight_number': 'UK 830', 'legroom': '29 in', 'extensions': ['Below average legroom (29 in)', 'In-seat USB outlet', 'Stream media to your device', 'Carbon emissions estimate: 123 kg']}], 'total_duration': 140, 'carbon_emissions': {'this_flight': 124000, 'typical_for_this_route': 103000, 'difference_percent': 20}, 'type': 'One way', 'airline_logo': 'https://www.gstatic.com/flights/airline_logos/70px/UK.png', 'booking_token': 'WyJDalJJVGxWVmJWaFRkR3BoYnpCQlJtcEpORkZDUnkwdExTMHRMUzB0TFhaMGNXY3hPRUZCUVVGQlIxcHNaVGt3UTBwMFpXZEJFZ1ZWU3pnek1EZ2MiLFtbIkhZRCIsIjIwMjQtMDYtMjkiLCJERUwiLG51bGwsIlVLIiwiODMwIl1dXQ=='}], 'other_flights': [{'flights': [{'departure_airport': {'name': 'Rajiv Gandhi International Airport', 'id': 'HYD', 'time': '2024-06-29 13:55'}, 'arrival_airport': {'name': 'Indira Gandhi International Airport (Delhi Airport)', 'id': 'DEL', 'time': '2024-06-29 16:15'}, 'duration': 140, 'airplane': 'Airbus A320', 'airline': 'IndiGo', 'airline_logo': 'https://www.gstatic.com/flights/airline_logos/70px/6E.png', 'travel_class': 'Economy', 'flight_number': '6E 6043', 'legroom': '28 in', 'extensions': ['Below average legroom (28 in)', 'Carbon emissions estimate: 111 kg'], 'often_delayed_by_over_30_min': True}], 'total_duration': 140, 'carbon_emissions': {'this_flight': 112000, 'typical_for_this_route': 103000, 'difference_percent': 9}, 'price': 49, 'type': 'One way', 'airline_logo': 'https://www.gstatic.com/flights/airline_logos/70px/6E.png', 'booking_token': 'WyJDalJJVGxWVmJWaFRkR3BoYnpCQlJtcEpORkZDUnkwdExTMHRMUzB0TFhaMGNXY3hPRUZCUVVGQlIxcHNaVGt3UTBwMFpXZEJFZ1kyUlRZd05ETWFDZ2lUSmhBQ0dnTlZVMFE0SEhDVEpnPT0iLFtbIkhZRCIsIjIwMjQtMDYtMjkiLCJERUwiLG51bGwsIjZFIiwiNjA0MyJdXV0='}, {'flights': [{'departure_airport': {'name': 'Rajiv Gandhi International Airport', 'id': 'HYD', 'time': '2024-06-29 09:00'}, 'arrival_airport': {'name': 'Indira Gandhi International Airport (Delhi Airport)', 'id': 'DEL', 'time': '2024-06-29 11:05'}, 'duration': 125, 'airplane': 'Airbus A321neo', 'airline': 'IndiGo', 'airline_logo': 'https://www.gstatic.com/flights/airline_logos/70px/6E.png', 'travel_class': 'Economy', 'flight_number': '6E 6281', 'legroom': '29 in', 'extensions': ['Below average legroom (29 in)', 'Carbon emissions estimate: 98 kg']}], 'total_duration': 125, 'carbon_emissions': {'this_flight': 99000, 'typical_for_this_route': 103000, 'difference_percent': -4}, 'price': 55, 'type': 'One way', 'airline_logo': 'https://www.gstatic.com/flights/airline_logos/70px/6E.png', 'booking_token': 'WyJDalJJVGxWVmJWaFRkR3BoYnpCQlJtcEpORkZDUnkwdExTMHRMUzB0TFhaMGNXY3hPRUZCUVVGQlIxcHNaVGt3UTBwMFpXZEJFZ1kyUlRZeU9ERWFDZ2pGS2hBQ0dnTlZVMFE0SEhERktnPT0iLFtbIkhZRCIsIjIwMjQtMDYtMjkiLCJERUwiLG51bGwsIjZFIiwiNjI4MSJdXV0='}, {'flights': [{'departure_airport': {'name': 'Rajiv Gandhi International Airport', 'id': 'HYD', 'time': '2024-06-29 15:15'}, 'arrival_airport': {'name': 'Indira Gandhi International Airport (Delhi Airport)', 'id': 'DEL', 'time': '2024-06-29 17:35'}, 'duration': 140, 'airplane': 'Airbus A321neo', 'airline': 'IndiGo', 'airline_logo': 'https://www.gstatic.com/flights/airline_logos/70px/6E.png', 'travel_class': 'Economy', 'flight_number': '6E 5606', 'legroom': '29 in', 'extensions': ['Below average legroom (29 in)', 'Carbon emissions estimate: 98 kg']}], 'total_duration': 140, 'carbon_emissions': {'this_flight': 99000, 'typical_for_this_route': 103000, 'difference_percent': -4}, 'price': 55, 'type': 'One way', 'airline_logo': 'https://www.gstatic.com/flights/airline_logos/70px/6E.png', 'booking_token': 'WyJDalJJVGxWVmJWaFRkR3BoYnpCQlJtcEpORkZDUnkwdExTMHRMUzB0TFhaMGNXY3hPRUZCUVVGQlIxcHNaVGt3UTBwMFpXZEJFZ1kyUlRVMk1EWWFDZ2pGS2hBQ0dnTlZVMFE0SEhERktnPT0iLFtbIkhZRCIsIjIwMjQtMDYtMjkiLCJERUwiLG51bGwsIjZFIiwiNTYwNiJdXV0='}, {'flights': [{'departure_airport': {'name': 'Rajiv Gandhi International Airport', 'id': 'HYD', 'time': '2024-06-29 17:00'}, 'arrival_airport': {'name': 'Indira Gandhi International Airport (Delhi Airport)', 'id': 'DEL', 'time': '2024-06-29 19:15'}, 'duration': 135, 'airplane': 'Airbus A321neo', 'airline': 'IndiGo', 'airline_logo': 'https://www.gstatic.com/flights/airline_logos/70px/6E.png', 'travel_class': 'Economy', 'flight_number': '6E 6372', 'legroom': '29 in', 'extensions': ['Below average legroom (29 in)', 'Carbon emissions estimate: 98 kg']}], 'total_duration': 135, 'carbon_emissions': {'this_flight': 99000, 'typical_for_this_route': 103000, 'difference_percent': -4}, 'price': 55, 'type': 'One way', 'airline_logo': 'https://www.gstatic.com/flights/airline_logos/70px/6E.png', 'booking_token': 'WyJDalJJVGxWVmJWaFRkR3BoYnpCQlJtcEpORkZDUnkwdExTMHRMUzB0TFhaMGNXY3hPRUZCUVVGQlIxcHNaVGt3UTBwMFpXZEJFZ1kyUlRZek56SWFDZ2pGS2hBQ0dnTlZVMFE0SEhERktnPT0iLFtbIkhZRCIsIjIwMjQtMDYtMjkiLCJERUwiLG51bGwsIjZFIiwiNjM3MiJdXV0='}, {'flights': [{'departure_airport': {'name': 'Rajiv Gandhi International Airport', 'id': 'HYD', 'time': '2024-06-29 18:30'}, 'arrival_airport': {'name': 'Indira Gandhi International Airport (Delhi Airport)', 'id': 'DEL', 'time': '2024-06-29 20:50'}, 'duration': 140, 'airplane': 'Airbus A321neo', 'airline': 'IndiGo', 'airline_logo': 'https://www.gstatic.com/flights/airline_logos/70px/6E.png', 'travel_class': 'Economy', 'flight_number': '6E 233', 'legroom': '29 in', 'extensions': ['Below average legroom (29 in)', 'Carbon emissions estimate: 94 kg']}], 'total_duration': 140, 'carbon_emissions': {'this_flight': 95000, 'typical_for_this_route': 103000, 'difference_percent': -8}, 'price': 55, 'type': 'One way', 'airline_logo': 'https://www.gstatic.com/flights/airline_logos/70px/6E.png', 'booking_token': 'WyJDalJJVGxWVmJWaFRkR3BoYnpCQlJtcEpORkZDUnkwdExTMHRMUzB0TFhaMGNXY3hPRUZCUVVGQlIxcHNaVGt3UTBwMFpXZEJFZ1UyUlRJek14b0tDTVVxRUFJYUExVlRSRGdjY01VcSIsW1siSFlEIiwiMjAyNC0wNi0yOSIsIkRFTCIsbnVsbCwiNkUiLCIyMzMiXV1d'}, {'flights': [{'departure_airport': {'name': 'Rajiv Gandhi International Airport', 'id': 'HYD', 'time': '2024-06-29 20:05'}, 'arrival_airport': {'name': 'Indira Gandhi International Airport (Delhi Airport)', 'id': 'DEL', 'time': '2024-06-29 22:15'}, 'duration': 130, 'airplane': 'Airbus A320', 'airline': 'IndiGo', 'airline_logo': 'https://www.gstatic.com/flights/airline_logos/70px/6E.png', 'travel_class': 'Economy', 'flight_number': '6E 2027', 'legroom': '28 in', 'extensions': ['Below average legroom (28 in)', 'Carbon emissions estimate: 111 kg']}], 'total_duration': 130, 'carbon_emissions': {'this_flight': 112000, 'typical_for_this_route': 103000, 'difference_percent': 9}, 'price': 55, 'type': 'One way', 'airline_logo': 'https://www.gstatic.com/flights/airline_logos/70px/6E.png', 'booking_token': 'WyJDalJJVGxWVmJWaFRkR3BoYnpCQlJtcEpORkZDUnkwdExTMHRMUzB0TFhaMGNXY3hPRUZCUVVGQlIxcHNaVGt3UTBwMFpXZEJFZ1kyUlRJd01qY2FDZ2pGS2hBQ0dnTlZVMFE0SEhERktnPT0iLFtbIkhZRCIsIjIwMjQtMDYtMjkiLCJERUwiLG51bGwsIjZFIiwiMjAyNyJdXV0='}, {'flights': [{'departure_airport': {'name': 'Rajiv Gandhi International Airport', 'id': 'HYD', 'time': '2024-06-29 18:35'}, 'arrival_airport': {'name': 'Indira Gandhi International Airport (Delhi Airport)', 'id': 'DEL', 'time': '2024-06-29 21:00'}, 'duration': 145, 'airplane': 'Boeing 737MAX 8 Passenger', 'airline': 'Akasa Air', 'airline_logo': 'https://www.gstatic.com/flights/airline_logos/70px/QP.png', 'travel_class': 'Economy', 'flight_number': 'QP 1407', 'extensions': ['Carbon emissions estimate: 105 kg']}], 'total_duration': 145, 'carbon_emissions': {'this_flight': 105000, 'typical_for_this_route': 103000, 'difference_percent': 2}, 'price': 55, 'type': 'One way', 'airline_logo': 'https://www.gstatic.com/flights/airline_logos/70px/QP.png', 'booking_token': 'WyJDalJJVGxWVmJWaFRkR3BoYnpCQlJtcEpORkZDUnkwdExTMHRMUzB0TFhaMGNXY3hPRUZCUVVGQlIxcHNaVGt3UTBwMFpXZEJFZ1pSVURFME1EY2FDZ2pJS2hBQ0dnTlZVMFE0SEhESUtnPT0iLFtbIkhZRCIsIjIwMjQtMDYtMjkiLCJERUwiLG51bGwsIlFQIiwiMTQwNyJdXV0='}, {'flights': [{'departure_airport': {'name': 'Rajiv Gandhi International Airport', 'id': 'HYD', 'time': '2024-06-29 21:25'}, 'arrival_airport': {'name': 'Indira Gandhi International Airport (Delhi Airport)', 'id': 'DEL', 'time': '2024-06-29 23:50'}, 'duration': 145, 'airplane': 'Airbus A321neo', 'airline': 'IndiGo', 'airline_logo': 'https://www.gstatic.com/flights/airline_logos/70px/6E.png', 'travel_class': 'Economy', 'flight_number': '6E 192', 'legroom': '29 in', 'extensions': ['Below average legroom (29 in)', 'Carbon emissions estimate: 98 kg'], 'often_delayed_by_over_30_min': True}], 'total_duration': 145, 'carbon_emissions': {'this_flight': 99000, 'typical_for_this_route': 103000, 'difference_percent': -4}, 'price': 57, 'type': 'One way', 'airline_logo': 'https://www.gstatic.com/flights/airline_logos/70px/6E.png', 'booking_token': 'WyJDalJJVGxWVmJWaFRkR3BoYnpCQlJtcEpORkZDUnkwdExTMHRMUzB0TFhaMGNXY3hPRUZCUVVGQlIxcHNaVGt3UTBwMFpXZEJFZ1UyUlRFNU1ob0tDSU1zRUFJYUExVlRSRGdjY0lNcyIsW1siSFlEIiwiMjAyNC0wNi0yOSIsIkRFTCIsbnVsbCwiNkUiLCIxOTIiXV1d'}, {'flights': [{'departure_airport': {'name': 'Rajiv Gandhi International Airport', 'id': 'HYD', 'time': '2024-06-29 06:00'}, 'arrival_airport': {'name': 'Indira Gandhi International Airport (Delhi Airport)', 'id': 'DEL', 'time': '2024-06-29 08:05'}, 'duration': 125, 'airplane': 'Airbus A321neo', 'airline': 'IndiGo', 'airline_logo': 'https://www.gstatic.com/flights/airline_logos/70px/6E.png', 'travel_class': 'Economy', 'flight_number': '6E 2379', 'legroom': '29 in', 'extensions': ['Below average legroom (29 in)', 'Carbon emissions estimate: 94 kg']}], 'total_duration': 125, 'carbon_emissions': {'this_flight': 95000, 'typical_for_this_route': 103000, 'difference_percent': -8}, 'price': 61, 'type': 'One way', 'airline_logo': 'https://www.gstatic.com/flights/airline_logos/70px/6E.png', 'booking_token': 'WyJDalJJVGxWVmJWaFRkR3BoYnpCQlJtcEpORkZDUnkwdExTMHRMUzB0TFhaMGNXY3hPRUZCUVVGQlIxcHNaVGt3UTBwMFpXZEJFZ1kyUlRJek56a2FDZ2o4TGhBQ0dnTlZVMFE0SEhEOExnPT0iLFtbIkhZRCIsIjIwMjQtMDYtMjkiLCJERUwiLG51bGwsIjZFIiwiMjM3OSJdXV0='}, {'flights': [{'departure_airport': {'name': 'Rajiv Gandhi International Airport', 'id': 'HYD', 'time': '2024-06-29 08:00'}, 'arrival_airport': {'name': 'Indira Gandhi International Airport (Delhi Airport)', 'id': 'DEL', 'time': '2024-06-29 10:30'}, 'duration': 150, 'airplane': 'Boeing 737MAX 8 Passenger', 'airline': 'Akasa Air', 'airline_logo': 'https://www.gstatic.com/flights/airline_logos/70px/QP.png', 'travel_class': 'Economy', 'flight_number': 'QP 1405', 'extensions': ['Carbon emissions estimate: 105 kg']}], 'total_duration': 150, 'carbon_emissions': {'this_flight': 105000, 'typical_for_this_route': 103000, 'difference_percent': 2}, 'price': 61, 'type': 'One way', 'airline_logo': 'https://www.gstatic.com/flights/airline_logos/70px/QP.png', 'booking_token': 'WyJDalJJVGxWVmJWaFRkR3BoYnpCQlJtcEpORkZDUnkwdExTMHRMUzB0TFhaMGNXY3hPRUZCUVVGQlIxcHNaVGt3UTBwMFpXZEJFZ1pSVURFME1EVWFDZ2o4TGhBQ0dnTlZVMFE0SEhEOExnPT0iLFtbIkhZRCIsIjIwMjQtMDYtMjkiLCJERUwiLG51bGwsIlFQIiwiMTQwNSJdXV0='}, {'flights': [{'departure_airport': {'name': 'Rajiv Gandhi International Airport', 'id': 'HYD', 'time': '2024-06-29 06:20'}, 'arrival_airport': {'name': 'Indira Gandhi International Airport (Delhi Airport)', 'id': 'DEL', 'time': '2024-06-29 08:40'}, 'duration': 140, 'airplane': 'Airbus A320neo', 'airline': 'Air India', 'airline_logo': 'https://www.gstatic.com/flights/airline_logos/70px/AI.png', 'travel_class': 'Economy', 'flight_number': 'AI 559', 'legroom': '28 in', 'extensions': ['Below average legroom (28 in)', 'Carbon emissions estimate: 106 kg']}], 'total_duration': 140, 'carbon_emissions': {'this_flight': 107000, 'typical_for_this_route': 103000, 'difference_percent': 4}, 'price': 64, 'type': 'One way', 'airline_logo': 'https://www.gstatic.com/flights/airline_logos/70px/AI.png', 'booking_token': 'WyJDalJJVGxWVmJWaFRkR3BoYnpCQlJtcEpORkZDUnkwdExTMHRMUzB0TFhaMGNXY3hPRUZCUVVGQlIxcHNaVGt3UTBwMFpXZEJFZ1ZCU1RVMU9Sb0tDTXN4RUFJYUExVlRSRGdjY01zeCIsW1siSFlEIiwiMjAyNC0wNi0yOSIsIkRFTCIsbnVsbCwiQUkiLCI1NTkiXV1d'}, {'flights': [{'departure_airport': {'name': 'Rajiv Gandhi International Airport', 'id': 'HYD', 'time': '2024-06-29 10:05'}, 'arrival_airport': {'name': 'Indira Gandhi International Airport (Delhi Airport)', 'id': 'DEL', 'time': '2024-06-29 12:30'}, 'duration': 145, 'airplane': 'Airbus A320neo', 'airline': 'Air India', 'airline_logo': 'https://www.gstatic.com/flights/airline_logos/70px/AI.png', 'travel_class': 'Economy', 'flight_number': 'AI 543', 'legroom': '28 in', 'extensions': ['Below average legroom (28 in)', 'Carbon emissions estimate: 106 kg']}], 'total_duration': 145, 'carbon_emissions': {'this_flight': 107000, 'typical_for_this_route': 103000, 'difference_percent': 4}, 'price': 64, 'type': 'One way', 'airline_logo': 'https://www.gstatic.com/flights/airline_logos/70px/AI.png', 'booking_token': 'WyJDalJJVGxWVmJWaFRkR3BoYnpCQlJtcEpORkZDUnkwdExTMHRMUzB0TFhaMGNXY3hPRUZCUVVGQlIxcHNaVGt3UTBwMFpXZEJFZ1ZCU1RVME14b0tDTXN4RUFJYUExVlRSRGdjY01zeCIsW1siSFlEIiwiMjAyNC0wNi0yOSIsIkRFTCIsbnVsbCwiQUkiLCI1NDMiXV1d'}, {'flights': [{'departure_airport': {'name': 'Rajiv Gandhi International Airport', 'id': 'HYD', 'time': '2024-06-29 14:55'}, 'arrival_airport': {'name': 'Indira Gandhi International Airport (Delhi Airport)', 'id': 'DEL', 'time': '2024-06-29 17:10'}, 'duration': 135, 'airplane': 'Airbus A350', 'airline': 'Air India', 'airline_logo': 'https://www.gstatic.com/flights/airline_logos/70px/AI.png', 'travel_class': 'Economy', 'flight_number': 'AI 523', 'legroom': '31 in', 'extensions': ['Average legroom (31 in)', 'In-seat power & USB outlets', 'On-demand video', 'Carbon emissions estimate: 118 kg']}], 'total_duration': 135, 'carbon_emissions': {'this_flight': 119000, 'typical_for_this_route': 103000, 'difference_percent': 16}, 'price': 64, 'type': 'One way', 'airline_logo': 'https://www.gstatic.com/flights/airline_logos/70px/AI.png', 'booking_token': 'WyJDalJJVGxWVmJWaFRkR3BoYnpCQlJtcEpORkZDUnkwdExTMHRMUzB0TFhaMGNXY3hPRUZCUVVGQlIxcHNaVGt3UTBwMFpXZEJFZ1ZCU1RVeU14b0tDTXN4RUFJYUExVlRSRGdjY01zeCIsW1siSFlEIiwiMjAyNC0wNi0yOSIsIkRFTCIsbnVsbCwiQUkiLCI1MjMiXV1d'}, {'flights': [{'departure_airport': {'name': 'Rajiv Gandhi International Airport', 'id': 'HYD', 'time': '2024-06-29 16:25'}, 'arrival_airport': {'name': 'Indira Gandhi International Airport (Delhi Airport)', 'id': 'DEL', 'time': '2024-06-29 18:50'}, 'duration': 145, 'airplane': 'Airbus A320neo', 'airline': 'Air India', 'airline_logo': 'https://www.gstatic.com/flights/airline_logos/70px/AI.png', 'travel_class': 'Economy', 'flight_number': 'AI 541', 'legroom': '28 in', 'extensions': ['Below average legroom (28 in)', 'Carbon emissions estimate: 106 kg']}], 'total_duration': 145, 'carbon_emissions': {'this_flight': 107000, 'typical_for_this_route': 103000, 'difference_percent': 4}, 'price': 64, 'type': 'One way', 'airline_logo': 'https://www.gstatic.com/flights/airline_logos/70px/AI.png', 'booking_token': 'WyJDalJJVGxWVmJWaFRkR3BoYnpCQlJtcEpORkZDUnkwdExTMHRMUzB0TFhaMGNXY3hPRUZCUVVGQlIxcHNaVGt3UTBwMFpXZEJFZ1ZCU1RVME1Sb0tDTXN4RUFJYUExVlRSRGdjY01zeCIsW1siSFlEIiwiMjAyNC0wNi0yOSIsIkRFTCIsbnVsbCwiQUkiLCI1NDEiXV1d'}, {'flights': [{'departure_airport': {'name': 'Rajiv Gandhi International Airport', 'id': 'HYD', 'time': '2024-06-29 17:35'}, 'arrival_airport': {'name': 'Indira Gandhi International Airport (Delhi Airport)', 'id': 'DEL', 'time': '2024-06-29 19:55'}, 'duration': 140, 'airplane': 'Airbus A321', 'airline': 'Air India', 'airline_logo': 'https://www.gstatic.com/flights/airline_logos/70px/AI.png', 'travel_class': 'Economy', 'flight_number': 'AI 418', 'legroom': '31 in', 'extensions': ['Average legroom (31 in)', 'Carbon emissions estimate: 143 kg']}], 'total_duration': 140, 'carbon_emissions': {'this_flight': 143000, 'typical_for_this_route': 103000, 'difference_percent': 39}, 'price': 64, 'type': 'One way', 'airline_logo': 'https://www.gstatic.com/flights/airline_logos/70px/AI.png', 'booking_token': 'WyJDalJJVGxWVmJWaFRkR3BoYnpCQlJtcEpORkZDUnkwdExTMHRMUzB0TFhaMGNXY3hPRUZCUVVGQlIxcHNaVGt3UTBwMFpXZEJFZ1ZCU1RReE9Cb0tDTXN4RUFJYUExVlRSRGdjY01zeCIsW1siSFlEIiwiMjAyNC0wNi0yOSIsIkRFTCIsbnVsbCwiQUkiLCI0MTgiXV1d'}, {'flights': [{'departure_airport': {'name': 'Rajiv Gandhi International Airport', 'id': 'HYD', 'time': '2024-06-29 20:40'}, 'arrival_airport': {'name': 'Indira Gandhi International Airport (Delhi Airport)', 'id': 'DEL', 'time': '2024-06-29 23:00'}, 'duration': 140, 'airplane': 'Boeing 777', 'airline': 'Air India', 'airline_logo': 'https://www.gstatic.com/flights/airline_logos/70px/AI.png', 'travel_class': 'Economy', 'flight_number': 'AI 840', 'legroom': '33 in', 'extensions': ['Above average legroom (33 in)', 'In-seat power & USB outlets', 'On-demand video', 'Carbon emissions estimate: 151 kg']}], 'total_duration': 140, 'carbon_emissions': {'this_flight': 151000, 'typical_for_this_route': 103000, 'difference_percent': 47}, 'price': 64, 'type': 'One way', 'airline_logo': 'https://www.gstatic.com/flights/airline_logos/70px/AI.png', 'booking_token': 'WyJDalJJVGxWVmJWaFRkR3BoYnpCQlJtcEpORkZDUnkwdExTMHRMUzB0TFhaMGNXY3hPRUZCUVVGQlIxcHNaVGt3UTBwMFpXZEJFZ1ZCU1RnME1Cb0tDTXN4RUFJYUExVlRSRGdjY01zeCIsW1siSFlEIiwiMjAyNC0wNi0yOSIsIkRFTCIsbnVsbCwiQUkiLCI4NDAiXV1d'}, {'flights': [{'departure_airport': {'name': 'Rajiv Gandhi International Airport', 'id': 'HYD', 'time': '2024-06-29 06:00'}, 'arrival_airport': {'name': 'Indira Gandhi International Airport (Delhi Airport)', 'id': 'DEL', 'time': '2024-06-29 08:15'}, 'duration': 135, 'airplane': 'Boeing 737', 'airline': 'SpiceJet', 'airline_logo': 'https://www.gstatic.com/flights/airline_logos/70px/SG.png', 'travel_class': 'Economy', 'flight_number': 'SG 160', 'legroom': '29 in', 'extensions': ['Below average legroom (29 in)', 'Stream media to your device', 'Carbon emissions estimate: 139 kg']}], 'total_duration': 135, 'carbon_emissions': {'this_flight': 140000, 'typical_for_this_route': 103000, 'difference_percent': 36}, 'price': 68, 'type': 'One way', 'airline_logo': 'https://www.gstatic.com/flights/airline_logos/70px/SG.png', 'booking_token': 'WyJDalJJVGxWVmJWaFRkR3BoYnpCQlJtcEpORkZDUnkwdExTMHRMUzB0TFhaMGNXY3hPRUZCUVVGQlIxcHNaVGt3UTBwMFpXZEJFZ1ZUUnpFMk1Cb0tDTG8wRUFJYUExVlRSRGdjY0xvMCIsW1siSFlEIiwiMjAyNC0wNi0yOSIsIkRFTCIsbnVsbCwiU0ciLCIxNjAiXV1d'}, {'flights': [{'departure_airport': {'name': 'Rajiv Gandhi International Airport', 'id': 'HYD', 'time': '2024-06-29 07:45'}, 'arrival_airport': {'name': 'Indira Gandhi International Airport (Delhi Airport)', 'id': 'DEL', 'time': '2024-06-29 09:50'}, 'duration': 125, 'airplane': 'Airbus A321neo', 'airline': 'IndiGo', 'airline_logo': 'https://www.gstatic.com/flights/airline_logos/70px/6E.png', 'travel_class': 'Economy', 'flight_number': '6E 2056', 'legroom': '29 in', 'extensions': ['Below average legroom (29 in)', 'Carbon emissions estimate: 94 kg']}], 'total_duration': 125, 'carbon_emissions': {'this_flight': 95000, 'typical_for_this_route': 103000, 'difference_percent': -8}, 'price': 93, 'type': 'One way', 'airline_logo': 'https://www.gstatic.com/flights/airline_logos/70px/6E.png', 'booking_token': 'WyJDalJJVGxWVmJWaFRkR3BoYnpCQlJtcEpORkZDUnkwdExTMHRMUzB0TFhaMGNXY3hPRUZCUVVGQlIxcHNaVGt3UTBwMFpXZEJFZ1kyUlRJd05UWWFDZ2lFU0JBQ0dnTlZVMFE0SEhDRVNBPT0iLFtbIkhZRCIsIjIwMjQtMDYtMjkiLCJERUwiLG51bGwsIjZFIiwiMjA1NiJdXV0='}, {'flights': [{'departure_airport': {'name': 'Rajiv Gandhi International Airport', 'id': 'HYD', 'time': '2024-06-29 07:00'}, 'arrival_airport': {'name': 'Indira Gandhi International Airport (Delhi Airport)', 'id': 'DEL', 'time': '2024-06-29 09:05'}, 'duration': 125, 'airplane': 'Airbus A320', 'airline': 'Vistara', 'airline_logo': 'https://www.gstatic.com/flights/airline_logos/70px/UK.png', 'travel_class': 'Economy', 'flight_number': 'UK 860', 'legroom': '29 in', 'extensions': ['Below average legroom (29 in)', 'In-seat USB outlet', 'Stream media to your device', 'Carbon emissions estimate: 123 kg']}], 'total_duration': 125, 'carbon_emissions': {'this_flight': 124000, 'typical_for_this_route': 103000, 'difference_percent': 20}, 'type': 'One way', 'airline_logo': 'https://www.gstatic.com/flights/airline_logos/70px/UK.png', 'booking_token': 'WyJDalJJVGxWVmJWaFRkR3BoYnpCQlJtcEpORkZDUnkwdExTMHRMUzB0TFhaMGNXY3hPRUZCUVVGQlIxcHNaVGt3UTBwMFpXZEJFZ1ZWU3pnMk1EZ2MiLFtbIkhZRCIsIjIwMjQtMDYtMjkiLCJERUwiLG51bGwsIlVLIiwiODYwIl1dXQ=='}, {'flights': [{'departure_airport': {'name': 'Rajiv Gandhi International Airport', 'id': 'HYD', 'time': '2024-06-29 17:40'}, 'arrival_airport': {'name': 'Indira Gandhi International Airport (Delhi Airport)', 'id': 'DEL', 'time': '2024-06-29 19:55'}, 'duration': 135, 'airplane': 'Airbus A320', 'airline': 'Vistara', 'airline_logo': 'https://www.gstatic.com/flights/airline_logos/70px/UK.png', 'travel_class': 'Economy', 'flight_number': 'UK 890', 'legroom': '29 in', 'extensions': ['Below average legroom (29 in)', 'In-seat USB outlet', 'Stream media to your device', 'Carbon emissions estimate: 123 kg'], 'often_delayed_by_over_30_min': True}], 'total_duration': 135, 'carbon_emissions': {'this_flight': 124000, 'typical_for_this_route': 103000, 'difference_percent': 20}, 'type': 'One way', 'airline_logo': 'https://www.gstatic.com/flights/airline_logos/70px/UK.png', 'booking_token': 'WyJDalJJVGxWVmJWaFRkR3BoYnpCQlJtcEpORkZDUnkwdExTMHRMUzB0TFhaMGNXY3hPRUZCUVVGQlIxcHNaVGt3UTBwMFpXZEJFZ1ZWU3pnNU1EZ2MiLFtbIkhZRCIsIjIwMjQtMDYtMjkiLCJERUwiLG51bGwsIlVLIiwiODkwIl1dXQ=='}, {'flights': [{'departure_airport': {'name': 'Rajiv Gandhi International Airport', 'id': 'HYD', 'time': '2024-06-29 18:30'}, 'arrival_airport': {'name': 'Indira Gandhi International Airport (Delhi Airport)', 'id': 'DEL', 'time': '2024-06-29 20:45'}, 'duration': 135, 'airplane': 'Airbus A320', 'airline': 'Vistara', 'airline_logo': 'https://www.gstatic.com/flights/airline_logos/70px/UK.png', 'travel_class': 'Economy', 'flight_number': 'UK 880', 'legroom': '29 in', 'extensions': ['Below average legroom (29 in)', 'In-seat USB outlet', 'Stream media to your device', 'Carbon emissions estimate: 123 kg']}], 'total_duration': 135, 'carbon_emissions': {'this_flight': 124000, 'typical_for_this_route': 103000, 'difference_percent': 20}, 'type': 'One way', 'airline_logo': 'https://www.gstatic.com/flights/airline_logos/70px/UK.png', 'booking_token': 'WyJDalJJVGxWVmJWaFRkR3BoYnpCQlJtcEpORkZDUnkwdExTMHRMUzB0TFhaMGNXY3hPRUZCUVVGQlIxcHNaVGt3UTBwMFpXZEJFZ1ZWU3pnNE1EZ2MiLFtbIkhZRCIsIjIwMjQtMDYtMjkiLCJERUwiLG51bGwsIlVLIiwiODgwIl1dXQ=='}, {'flights': [{'departure_airport': {'name': 'Rajiv Gandhi International Airport', 'id': 'HYD', 'time': '2024-06-29 20:35'}, 'arrival_airport': {'name': 'Indira Gandhi International Airport (Delhi Airport)', 'id': 'DEL', 'time': '2024-06-29 22:45'}, 'duration': 130, 'airplane': 'Airbus A320', 'airline': 'Vistara', 'airline_logo': 'https://www.gstatic.com/flights/airline_logos/70px/UK.png', 'travel_class': 'Economy', 'flight_number': 'UK 870', 'legroom': '29 in', 'extensions': ['Below average legroom (29 in)', 'In-seat USB outlet', 'Stream media to your device', 'Carbon emissions estimate: 123 kg'], 'often_delayed_by_over_30_min': True}], 'total_duration': 130, 'carbon_emissions': {'this_flight': 124000, 'typical_for_this_route': 103000, 'difference_percent': 20}, 'type': 'One way', 'airline_logo': 'https://www.gstatic.com/flights/airline_logos/70px/UK.png', 'booking_token': 'WyJDalJJVGxWVmJWaFRkR3BoYnpCQlJtcEpORkZDUnkwdExTMHRMUzB0TFhaMGNXY3hPRUZCUVVGQlIxcHNaVGt3UTBwMFpXZEJFZ1ZWU3pnM01EZ2MiLFtbIkhZRCIsIjIwMjQtMDYtMjkiLCJERUwiLG51bGwsIlVLIiwiODcwIl1dXQ=='}], 'price_insights': {'lowest_price': 49, 'price_level': 'low', 'typical_price_range': [50, 65], 'price_history': [[1712687400, 61], [1712773800, 61], [1712860200, 61], [1712946600, 61], [1713033000, 61], [1713119400, 61], [1713205800, 61], [1713292200, 61], [1713378600, 62], [1713465000, 62], [1713551400, 62], [1713637800, 62], [1713724200, 62], [1713810600, 62], [1713897000, 62], [1713983400, 62], [1714069800, 62], [1714156200, 62], [1714242600, 62], [1714329000, 62], [1714415400, 55], [1714501800, 55], [1714588200, 55], [1714674600, 55], [1714761000, 55], [1714847400, 55], [1714933800, 55], [1715020200, 55], [1715106600, 55], [1715193000, 55], [1715279400, 55], [1715365800, 55], [1715452200, 55], [1715538600, 55], [1715625000, 55], [1715711400, 55], [1715797800, 64], [1715884200, 62], [1715970600, 64], [1716057000, 64], [1716143400, 64], [1716229800, 64], [1716316200, 58], [1716402600, 58], [1716489000, 58], [1716575400, 58], [1716661800, 58], [1716748200, 58], [1716834600, 58], [1716921000, 58], [1717007400, 56], [1717093800, 58], [1717180200, 58], [1717266600, 58], [1717353000, 58], [1717439400, 58], [1717525800, 55], [1717612200, 55], [1717698600, 49], [1717785000, 49], [1717871400, 49]]}}\n",
      "{'search_metadata': {'id': '66657bdc5fc493a26161b626', 'status': 'Success', 'json_endpoint': 'https://serpapi.com/searches/44ac0241ff1c3640/66657bdc5fc493a26161b626.json', 'created_at': '2024-06-09 09:54:36 UTC', 'processed_at': '2024-06-09 09:54:36 UTC', 'google_flights_url': 'https://www.google.com/travel/flights?hl=en&gl=us&q=Flights+to+DEL+from+HYD+on+2024-06-29+one-way', 'raw_html_file': 'https://serpapi.com/searches/44ac0241ff1c3640/66657bdc5fc493a26161b626.html', 'prettify_html_file': 'https://serpapi.com/searches/44ac0241ff1c3640/66657bdc5fc493a26161b626.prettify', 'total_time_taken': 0.68}, 'search_parameters': {'engine': 'google_flights', 'hl': 'en', 'gl': 'us', 'type': '2', 'departure_id': 'HYD', 'arrival_id': 'DEL', 'outbound_date': '2024-06-29'}, 'best_flights': [{'flights': [{'departure_airport': {'name': 'Rajiv Gandhi International Airport', 'id': 'HYD', 'time': '2024-06-29 10:30'}, 'arrival_airport': {'name': 'Indira Gandhi International Airport (Delhi Airport)', 'id': 'DEL', 'time': '2024-06-29 12:45'}, 'duration': 135, 'airplane': 'Airbus A321neo', 'airline': 'IndiGo', 'airline_logo': 'https://www.gstatic.com/flights/airline_logos/70px/6E.png', 'travel_class': 'Economy', 'flight_number': '6E 6202', 'legroom': '29 in', 'extensions': ['Below average legroom (29 in)', 'Carbon emissions estimate: 98 kg']}], 'total_duration': 135, 'carbon_emissions': {'this_flight': 99000, 'typical_for_this_route': 103000, 'difference_percent': -4}, 'price': 49, 'type': 'One way', 'airline_logo': 'https://www.gstatic.com/flights/airline_logos/70px/6E.png', 'booking_token': 'WyJDalJJVGxWVmJWaFRkR3BoYnpCQlJtcEpORkZDUnkwdExTMHRMUzB0TFhaMGNXY3hPRUZCUVVGQlIxcHNaVGt3UTBwMFpXZEJFZ1kyUlRZeU1ESWFDZ2lUSmhBQ0dnTlZVMFE0SEhDVEpnPT0iLFtbIkhZRCIsIjIwMjQtMDYtMjkiLCJERUwiLG51bGwsIjZFIiwiNjIwMiJdXV0='}, {'flights': [{'departure_airport': {'name': 'Rajiv Gandhi International Airport', 'id': 'HYD', 'time': '2024-06-29 12:00'}, 'arrival_airport': {'name': 'Indira Gandhi International Airport (Delhi Airport)', 'id': 'DEL', 'time': '2024-06-29 14:20'}, 'duration': 140, 'airplane': 'Airbus A321neo', 'airline': 'IndiGo', 'airline_logo': 'https://www.gstatic.com/flights/airline_logos/70px/6E.png', 'travel_class': 'Economy', 'flight_number': '6E 6031', 'legroom': '29 in', 'extensions': ['Below average legroom (29 in)', 'Carbon emissions estimate: 94 kg']}], 'total_duration': 140, 'carbon_emissions': {'this_flight': 95000, 'typical_for_this_route': 103000, 'difference_percent': -8}, 'price': 49, 'type': 'One way', 'airline_logo': 'https://www.gstatic.com/flights/airline_logos/70px/6E.png', 'booking_token': 'WyJDalJJVGxWVmJWaFRkR3BoYnpCQlJtcEpORkZDUnkwdExTMHRMUzB0TFhaMGNXY3hPRUZCUVVGQlIxcHNaVGt3UTBwMFpXZEJFZ1kyUlRZd016RWFDZ2lUSmhBQ0dnTlZVMFE0SEhDVEpnPT0iLFtbIkhZRCIsIjIwMjQtMDYtMjkiLCJERUwiLG51bGwsIjZFIiwiNjAzMSJdXV0='}, {'flights': [{'departure_airport': {'name': 'Rajiv Gandhi International Airport', 'id': 'HYD', 'time': '2024-06-29 05:30'}, 'arrival_airport': {'name': 'Indira Gandhi International Airport (Delhi Airport)', 'id': 'DEL', 'time': '2024-06-29 07:50'}, 'duration': 140, 'airplane': 'Airbus A319', 'airline': 'Air India', 'airline_logo': 'https://www.gstatic.com/flights/airline_logos/70px/AI.png', 'travel_class': 'Economy', 'flight_number': 'AI 554', 'legroom': '31 in', 'extensions': ['Average legroom (31 in)', 'Carbon emissions estimate: 159 kg']}], 'total_duration': 140, 'carbon_emissions': {'this_flight': 159000, 'typical_for_this_route': 103000, 'difference_percent': 54}, 'price': 58, 'type': 'One way', 'airline_logo': 'https://www.gstatic.com/flights/airline_logos/70px/AI.png', 'booking_token': 'WyJDalJJVGxWVmJWaFRkR3BoYnpCQlJtcEpORkZDUnkwdExTMHRMUzB0TFhaMGNXY3hPRUZCUVVGQlIxcHNaVGt3UTBwMFpXZEJFZ1ZCU1RVMU5Cb0tDUFlzRUFJYUExVlRSRGdjY1BZcyIsW1siSFlEIiwiMjAyNC0wNi0yOSIsIkRFTCIsbnVsbCwiQUkiLCI1NTQiXV1d'}, {'flights': [{'departure_airport': {'name': 'Rajiv Gandhi International Airport', 'id': 'HYD', 'time': '2024-06-29 10:10'}, 'arrival_airport': {'name': 'Indira Gandhi International Airport (Delhi Airport)', 'id': 'DEL', 'time': '2024-06-29 12:30'}, 'duration': 140, 'airplane': 'Airbus A320', 'airline': 'Vistara', 'airline_logo': 'https://www.gstatic.com/flights/airline_logos/70px/UK.png', 'travel_class': 'Economy', 'flight_number': 'UK 830', 'legroom': '29 in', 'extensions': ['Below average legroom (29 in)', 'In-seat USB outlet', 'Stream media to your device', 'Carbon emissions estimate: 123 kg']}], 'total_duration': 140, 'carbon_emissions': {'this_flight': 124000, 'typical_for_this_route': 103000, 'difference_percent': 20}, 'type': 'One way', 'airline_logo': 'https://www.gstatic.com/flights/airline_logos/70px/UK.png', 'booking_token': 'WyJDalJJVGxWVmJWaFRkR3BoYnpCQlJtcEpORkZDUnkwdExTMHRMUzB0TFhaMGNXY3hPRUZCUVVGQlIxcHNaVGt3UTBwMFpXZEJFZ1ZWU3pnek1EZ2MiLFtbIkhZRCIsIjIwMjQtMDYtMjkiLCJERUwiLG51bGwsIlVLIiwiODMwIl1dXQ=='}], 'other_flights': [{'flights': [{'departure_airport': {'name': 'Rajiv Gandhi International Airport', 'id': 'HYD', 'time': '2024-06-29 13:55'}, 'arrival_airport': {'name': 'Indira Gandhi International Airport (Delhi Airport)', 'id': 'DEL', 'time': '2024-06-29 16:15'}, 'duration': 140, 'airplane': 'Airbus A320', 'airline': 'IndiGo', 'airline_logo': 'https://www.gstatic.com/flights/airline_logos/70px/6E.png', 'travel_class': 'Economy', 'flight_number': '6E 6043', 'legroom': '28 in', 'extensions': ['Below average legroom (28 in)', 'Carbon emissions estimate: 111 kg'], 'often_delayed_by_over_30_min': True}], 'total_duration': 140, 'carbon_emissions': {'this_flight': 112000, 'typical_for_this_route': 103000, 'difference_percent': 9}, 'price': 49, 'type': 'One way', 'airline_logo': 'https://www.gstatic.com/flights/airline_logos/70px/6E.png', 'booking_token': 'WyJDalJJVGxWVmJWaFRkR3BoYnpCQlJtcEpORkZDUnkwdExTMHRMUzB0TFhaMGNXY3hPRUZCUVVGQlIxcHNaVGt3UTBwMFpXZEJFZ1kyUlRZd05ETWFDZ2lUSmhBQ0dnTlZVMFE0SEhDVEpnPT0iLFtbIkhZRCIsIjIwMjQtMDYtMjkiLCJERUwiLG51bGwsIjZFIiwiNjA0MyJdXV0='}, {'flights': [{'departure_airport': {'name': 'Rajiv Gandhi International Airport', 'id': 'HYD', 'time': '2024-06-29 09:00'}, 'arrival_airport': {'name': 'Indira Gandhi International Airport (Delhi Airport)', 'id': 'DEL', 'time': '2024-06-29 11:05'}, 'duration': 125, 'airplane': 'Airbus A321neo', 'airline': 'IndiGo', 'airline_logo': 'https://www.gstatic.com/flights/airline_logos/70px/6E.png', 'travel_class': 'Economy', 'flight_number': '6E 6281', 'legroom': '29 in', 'extensions': ['Below average legroom (29 in)', 'Carbon emissions estimate: 98 kg']}], 'total_duration': 125, 'carbon_emissions': {'this_flight': 99000, 'typical_for_this_route': 103000, 'difference_percent': -4}, 'price': 55, 'type': 'One way', 'airline_logo': 'https://www.gstatic.com/flights/airline_logos/70px/6E.png', 'booking_token': 'WyJDalJJVGxWVmJWaFRkR3BoYnpCQlJtcEpORkZDUnkwdExTMHRMUzB0TFhaMGNXY3hPRUZCUVVGQlIxcHNaVGt3UTBwMFpXZEJFZ1kyUlRZeU9ERWFDZ2pGS2hBQ0dnTlZVMFE0SEhERktnPT0iLFtbIkhZRCIsIjIwMjQtMDYtMjkiLCJERUwiLG51bGwsIjZFIiwiNjI4MSJdXV0='}, {'flights': [{'departure_airport': {'name': 'Rajiv Gandhi International Airport', 'id': 'HYD', 'time': '2024-06-29 15:15'}, 'arrival_airport': {'name': 'Indira Gandhi International Airport (Delhi Airport)', 'id': 'DEL', 'time': '2024-06-29 17:35'}, 'duration': 140, 'airplane': 'Airbus A321neo', 'airline': 'IndiGo', 'airline_logo': 'https://www.gstatic.com/flights/airline_logos/70px/6E.png', 'travel_class': 'Economy', 'flight_number': '6E 5606', 'legroom': '29 in', 'extensions': ['Below average legroom (29 in)', 'Carbon emissions estimate: 98 kg']}], 'total_duration': 140, 'carbon_emissions': {'this_flight': 99000, 'typical_for_this_route': 103000, 'difference_percent': -4}, 'price': 55, 'type': 'One way', 'airline_logo': 'https://www.gstatic.com/flights/airline_logos/70px/6E.png', 'booking_token': 'WyJDalJJVGxWVmJWaFRkR3BoYnpCQlJtcEpORkZDUnkwdExTMHRMUzB0TFhaMGNXY3hPRUZCUVVGQlIxcHNaVGt3UTBwMFpXZEJFZ1kyUlRVMk1EWWFDZ2pGS2hBQ0dnTlZVMFE0SEhERktnPT0iLFtbIkhZRCIsIjIwMjQtMDYtMjkiLCJERUwiLG51bGwsIjZFIiwiNTYwNiJdXV0='}, {'flights': [{'departure_airport': {'name': 'Rajiv Gandhi International Airport', 'id': 'HYD', 'time': '2024-06-29 17:00'}, 'arrival_airport': {'name': 'Indira Gandhi International Airport (Delhi Airport)', 'id': 'DEL', 'time': '2024-06-29 19:15'}, 'duration': 135, 'airplane': 'Airbus A321neo', 'airline': 'IndiGo', 'airline_logo': 'https://www.gstatic.com/flights/airline_logos/70px/6E.png', 'travel_class': 'Economy', 'flight_number': '6E 6372', 'legroom': '29 in', 'extensions': ['Below average legroom (29 in)', 'Carbon emissions estimate: 98 kg']}], 'total_duration': 135, 'carbon_emissions': {'this_flight': 99000, 'typical_for_this_route': 103000, 'difference_percent': -4}, 'price': 55, 'type': 'One way', 'airline_logo': 'https://www.gstatic.com/flights/airline_logos/70px/6E.png', 'booking_token': 'WyJDalJJVGxWVmJWaFRkR3BoYnpCQlJtcEpORkZDUnkwdExTMHRMUzB0TFhaMGNXY3hPRUZCUVVGQlIxcHNaVGt3UTBwMFpXZEJFZ1kyUlRZek56SWFDZ2pGS2hBQ0dnTlZVMFE0SEhERktnPT0iLFtbIkhZRCIsIjIwMjQtMDYtMjkiLCJERUwiLG51bGwsIjZFIiwiNjM3MiJdXV0='}, {'flights': [{'departure_airport': {'name': 'Rajiv Gandhi International Airport', 'id': 'HYD', 'time': '2024-06-29 18:30'}, 'arrival_airport': {'name': 'Indira Gandhi International Airport (Delhi Airport)', 'id': 'DEL', 'time': '2024-06-29 20:50'}, 'duration': 140, 'airplane': 'Airbus A321neo', 'airline': 'IndiGo', 'airline_logo': 'https://www.gstatic.com/flights/airline_logos/70px/6E.png', 'travel_class': 'Economy', 'flight_number': '6E 233', 'legroom': '29 in', 'extensions': ['Below average legroom (29 in)', 'Carbon emissions estimate: 94 kg']}], 'total_duration': 140, 'carbon_emissions': {'this_flight': 95000, 'typical_for_this_route': 103000, 'difference_percent': -8}, 'price': 55, 'type': 'One way', 'airline_logo': 'https://www.gstatic.com/flights/airline_logos/70px/6E.png', 'booking_token': 'WyJDalJJVGxWVmJWaFRkR3BoYnpCQlJtcEpORkZDUnkwdExTMHRMUzB0TFhaMGNXY3hPRUZCUVVGQlIxcHNaVGt3UTBwMFpXZEJFZ1UyUlRJek14b0tDTVVxRUFJYUExVlRSRGdjY01VcSIsW1siSFlEIiwiMjAyNC0wNi0yOSIsIkRFTCIsbnVsbCwiNkUiLCIyMzMiXV1d'}, {'flights': [{'departure_airport': {'name': 'Rajiv Gandhi International Airport', 'id': 'HYD', 'time': '2024-06-29 20:05'}, 'arrival_airport': {'name': 'Indira Gandhi International Airport (Delhi Airport)', 'id': 'DEL', 'time': '2024-06-29 22:15'}, 'duration': 130, 'airplane': 'Airbus A320', 'airline': 'IndiGo', 'airline_logo': 'https://www.gstatic.com/flights/airline_logos/70px/6E.png', 'travel_class': 'Economy', 'flight_number': '6E 2027', 'legroom': '28 in', 'extensions': ['Below average legroom (28 in)', 'Carbon emissions estimate: 111 kg']}], 'total_duration': 130, 'carbon_emissions': {'this_flight': 112000, 'typical_for_this_route': 103000, 'difference_percent': 9}, 'price': 55, 'type': 'One way', 'airline_logo': 'https://www.gstatic.com/flights/airline_logos/70px/6E.png', 'booking_token': 'WyJDalJJVGxWVmJWaFRkR3BoYnpCQlJtcEpORkZDUnkwdExTMHRMUzB0TFhaMGNXY3hPRUZCUVVGQlIxcHNaVGt3UTBwMFpXZEJFZ1kyUlRJd01qY2FDZ2pGS2hBQ0dnTlZVMFE0SEhERktnPT0iLFtbIkhZRCIsIjIwMjQtMDYtMjkiLCJERUwiLG51bGwsIjZFIiwiMjAyNyJdXV0='}, {'flights': [{'departure_airport': {'name': 'Rajiv Gandhi International Airport', 'id': 'HYD', 'time': '2024-06-29 18:35'}, 'arrival_airport': {'name': 'Indira Gandhi International Airport (Delhi Airport)', 'id': 'DEL', 'time': '2024-06-29 21:00'}, 'duration': 145, 'airplane': 'Boeing 737MAX 8 Passenger', 'airline': 'Akasa Air', 'airline_logo': 'https://www.gstatic.com/flights/airline_logos/70px/QP.png', 'travel_class': 'Economy', 'flight_number': 'QP 1407', 'extensions': ['Carbon emissions estimate: 105 kg']}], 'total_duration': 145, 'carbon_emissions': {'this_flight': 105000, 'typical_for_this_route': 103000, 'difference_percent': 2}, 'price': 55, 'type': 'One way', 'airline_logo': 'https://www.gstatic.com/flights/airline_logos/70px/QP.png', 'booking_token': 'WyJDalJJVGxWVmJWaFRkR3BoYnpCQlJtcEpORkZDUnkwdExTMHRMUzB0TFhaMGNXY3hPRUZCUVVGQlIxcHNaVGt3UTBwMFpXZEJFZ1pSVURFME1EY2FDZ2pJS2hBQ0dnTlZVMFE0SEhESUtnPT0iLFtbIkhZRCIsIjIwMjQtMDYtMjkiLCJERUwiLG51bGwsIlFQIiwiMTQwNyJdXV0='}, {'flights': [{'departure_airport': {'name': 'Rajiv Gandhi International Airport', 'id': 'HYD', 'time': '2024-06-29 21:25'}, 'arrival_airport': {'name': 'Indira Gandhi International Airport (Delhi Airport)', 'id': 'DEL', 'time': '2024-06-29 23:50'}, 'duration': 145, 'airplane': 'Airbus A321neo', 'airline': 'IndiGo', 'airline_logo': 'https://www.gstatic.com/flights/airline_logos/70px/6E.png', 'travel_class': 'Economy', 'flight_number': '6E 192', 'legroom': '29 in', 'extensions': ['Below average legroom (29 in)', 'Carbon emissions estimate: 98 kg'], 'often_delayed_by_over_30_min': True}], 'total_duration': 145, 'carbon_emissions': {'this_flight': 99000, 'typical_for_this_route': 103000, 'difference_percent': -4}, 'price': 57, 'type': 'One way', 'airline_logo': 'https://www.gstatic.com/flights/airline_logos/70px/6E.png', 'booking_token': 'WyJDalJJVGxWVmJWaFRkR3BoYnpCQlJtcEpORkZDUnkwdExTMHRMUzB0TFhaMGNXY3hPRUZCUVVGQlIxcHNaVGt3UTBwMFpXZEJFZ1UyUlRFNU1ob0tDSU1zRUFJYUExVlRSRGdjY0lNcyIsW1siSFlEIiwiMjAyNC0wNi0yOSIsIkRFTCIsbnVsbCwiNkUiLCIxOTIiXV1d'}, {'flights': [{'departure_airport': {'name': 'Rajiv Gandhi International Airport', 'id': 'HYD', 'time': '2024-06-29 06:00'}, 'arrival_airport': {'name': 'Indira Gandhi International Airport (Delhi Airport)', 'id': 'DEL', 'time': '2024-06-29 08:05'}, 'duration': 125, 'airplane': 'Airbus A321neo', 'airline': 'IndiGo', 'airline_logo': 'https://www.gstatic.com/flights/airline_logos/70px/6E.png', 'travel_class': 'Economy', 'flight_number': '6E 2379', 'legroom': '29 in', 'extensions': ['Below average legroom (29 in)', 'Carbon emissions estimate: 94 kg']}], 'total_duration': 125, 'carbon_emissions': {'this_flight': 95000, 'typical_for_this_route': 103000, 'difference_percent': -8}, 'price': 61, 'type': 'One way', 'airline_logo': 'https://www.gstatic.com/flights/airline_logos/70px/6E.png', 'booking_token': 'WyJDalJJVGxWVmJWaFRkR3BoYnpCQlJtcEpORkZDUnkwdExTMHRMUzB0TFhaMGNXY3hPRUZCUVVGQlIxcHNaVGt3UTBwMFpXZEJFZ1kyUlRJek56a2FDZ2o4TGhBQ0dnTlZVMFE0SEhEOExnPT0iLFtbIkhZRCIsIjIwMjQtMDYtMjkiLCJERUwiLG51bGwsIjZFIiwiMjM3OSJdXV0='}, {'flights': [{'departure_airport': {'name': 'Rajiv Gandhi International Airport', 'id': 'HYD', 'time': '2024-06-29 08:00'}, 'arrival_airport': {'name': 'Indira Gandhi International Airport (Delhi Airport)', 'id': 'DEL', 'time': '2024-06-29 10:30'}, 'duration': 150, 'airplane': 'Boeing 737MAX 8 Passenger', 'airline': 'Akasa Air', 'airline_logo': 'https://www.gstatic.com/flights/airline_logos/70px/QP.png', 'travel_class': 'Economy', 'flight_number': 'QP 1405', 'extensions': ['Carbon emissions estimate: 105 kg']}], 'total_duration': 150, 'carbon_emissions': {'this_flight': 105000, 'typical_for_this_route': 103000, 'difference_percent': 2}, 'price': 61, 'type': 'One way', 'airline_logo': 'https://www.gstatic.com/flights/airline_logos/70px/QP.png', 'booking_token': 'WyJDalJJVGxWVmJWaFRkR3BoYnpCQlJtcEpORkZDUnkwdExTMHRMUzB0TFhaMGNXY3hPRUZCUVVGQlIxcHNaVGt3UTBwMFpXZEJFZ1pSVURFME1EVWFDZ2o4TGhBQ0dnTlZVMFE0SEhEOExnPT0iLFtbIkhZRCIsIjIwMjQtMDYtMjkiLCJERUwiLG51bGwsIlFQIiwiMTQwNSJdXV0='}, {'flights': [{'departure_airport': {'name': 'Rajiv Gandhi International Airport', 'id': 'HYD', 'time': '2024-06-29 06:20'}, 'arrival_airport': {'name': 'Indira Gandhi International Airport (Delhi Airport)', 'id': 'DEL', 'time': '2024-06-29 08:40'}, 'duration': 140, 'airplane': 'Airbus A320neo', 'airline': 'Air India', 'airline_logo': 'https://www.gstatic.com/flights/airline_logos/70px/AI.png', 'travel_class': 'Economy', 'flight_number': 'AI 559', 'legroom': '28 in', 'extensions': ['Below average legroom (28 in)', 'Carbon emissions estimate: 106 kg']}], 'total_duration': 140, 'carbon_emissions': {'this_flight': 107000, 'typical_for_this_route': 103000, 'difference_percent': 4}, 'price': 64, 'type': 'One way', 'airline_logo': 'https://www.gstatic.com/flights/airline_logos/70px/AI.png', 'booking_token': 'WyJDalJJVGxWVmJWaFRkR3BoYnpCQlJtcEpORkZDUnkwdExTMHRMUzB0TFhaMGNXY3hPRUZCUVVGQlIxcHNaVGt3UTBwMFpXZEJFZ1ZCU1RVMU9Sb0tDTXN4RUFJYUExVlRSRGdjY01zeCIsW1siSFlEIiwiMjAyNC0wNi0yOSIsIkRFTCIsbnVsbCwiQUkiLCI1NTkiXV1d'}, {'flights': [{'departure_airport': {'name': 'Rajiv Gandhi International Airport', 'id': 'HYD', 'time': '2024-06-29 10:05'}, 'arrival_airport': {'name': 'Indira Gandhi International Airport (Delhi Airport)', 'id': 'DEL', 'time': '2024-06-29 12:30'}, 'duration': 145, 'airplane': 'Airbus A320neo', 'airline': 'Air India', 'airline_logo': 'https://www.gstatic.com/flights/airline_logos/70px/AI.png', 'travel_class': 'Economy', 'flight_number': 'AI 543', 'legroom': '28 in', 'extensions': ['Below average legroom (28 in)', 'Carbon emissions estimate: 106 kg']}], 'total_duration': 145, 'carbon_emissions': {'this_flight': 107000, 'typical_for_this_route': 103000, 'difference_percent': 4}, 'price': 64, 'type': 'One way', 'airline_logo': 'https://www.gstatic.com/flights/airline_logos/70px/AI.png', 'booking_token': 'WyJDalJJVGxWVmJWaFRkR3BoYnpCQlJtcEpORkZDUnkwdExTMHRMUzB0TFhaMGNXY3hPRUZCUVVGQlIxcHNaVGt3UTBwMFpXZEJFZ1ZCU1RVME14b0tDTXN4RUFJYUExVlRSRGdjY01zeCIsW1siSFlEIiwiMjAyNC0wNi0yOSIsIkRFTCIsbnVsbCwiQUkiLCI1NDMiXV1d'}, {'flights': [{'departure_airport': {'name': 'Rajiv Gandhi International Airport', 'id': 'HYD', 'time': '2024-06-29 14:55'}, 'arrival_airport': {'name': 'Indira Gandhi International Airport (Delhi Airport)', 'id': 'DEL', 'time': '2024-06-29 17:10'}, 'duration': 135, 'airplane': 'Airbus A350', 'airline': 'Air India', 'airline_logo': 'https://www.gstatic.com/flights/airline_logos/70px/AI.png', 'travel_class': 'Economy', 'flight_number': 'AI 523', 'legroom': '31 in', 'extensions': ['Average legroom (31 in)', 'In-seat power & USB outlets', 'On-demand video', 'Carbon emissions estimate: 118 kg']}], 'total_duration': 135, 'carbon_emissions': {'this_flight': 119000, 'typical_for_this_route': 103000, 'difference_percent': 16}, 'price': 64, 'type': 'One way', 'airline_logo': 'https://www.gstatic.com/flights/airline_logos/70px/AI.png', 'booking_token': 'WyJDalJJVGxWVmJWaFRkR3BoYnpCQlJtcEpORkZDUnkwdExTMHRMUzB0TFhaMGNXY3hPRUZCUVVGQlIxcHNaVGt3UTBwMFpXZEJFZ1ZCU1RVeU14b0tDTXN4RUFJYUExVlRSRGdjY01zeCIsW1siSFlEIiwiMjAyNC0wNi0yOSIsIkRFTCIsbnVsbCwiQUkiLCI1MjMiXV1d'}, {'flights': [{'departure_airport': {'name': 'Rajiv Gandhi International Airport', 'id': 'HYD', 'time': '2024-06-29 16:25'}, 'arrival_airport': {'name': 'Indira Gandhi International Airport (Delhi Airport)', 'id': 'DEL', 'time': '2024-06-29 18:50'}, 'duration': 145, 'airplane': 'Airbus A320neo', 'airline': 'Air India', 'airline_logo': 'https://www.gstatic.com/flights/airline_logos/70px/AI.png', 'travel_class': 'Economy', 'flight_number': 'AI 541', 'legroom': '28 in', 'extensions': ['Below average legroom (28 in)', 'Carbon emissions estimate: 106 kg']}], 'total_duration': 145, 'carbon_emissions': {'this_flight': 107000, 'typical_for_this_route': 103000, 'difference_percent': 4}, 'price': 64, 'type': 'One way', 'airline_logo': 'https://www.gstatic.com/flights/airline_logos/70px/AI.png', 'booking_token': 'WyJDalJJVGxWVmJWaFRkR3BoYnpCQlJtcEpORkZDUnkwdExTMHRMUzB0TFhaMGNXY3hPRUZCUVVGQlIxcHNaVGt3UTBwMFpXZEJFZ1ZCU1RVME1Sb0tDTXN4RUFJYUExVlRSRGdjY01zeCIsW1siSFlEIiwiMjAyNC0wNi0yOSIsIkRFTCIsbnVsbCwiQUkiLCI1NDEiXV1d'}, {'flights': [{'departure_airport': {'name': 'Rajiv Gandhi International Airport', 'id': 'HYD', 'time': '2024-06-29 17:35'}, 'arrival_airport': {'name': 'Indira Gandhi International Airport (Delhi Airport)', 'id': 'DEL', 'time': '2024-06-29 19:55'}, 'duration': 140, 'airplane': 'Airbus A321', 'airline': 'Air India', 'airline_logo': 'https://www.gstatic.com/flights/airline_logos/70px/AI.png', 'travel_class': 'Economy', 'flight_number': 'AI 418', 'legroom': '31 in', 'extensions': ['Average legroom (31 in)', 'Carbon emissions estimate: 143 kg']}], 'total_duration': 140, 'carbon_emissions': {'this_flight': 143000, 'typical_for_this_route': 103000, 'difference_percent': 39}, 'price': 64, 'type': 'One way', 'airline_logo': 'https://www.gstatic.com/flights/airline_logos/70px/AI.png', 'booking_token': 'WyJDalJJVGxWVmJWaFRkR3BoYnpCQlJtcEpORkZDUnkwdExTMHRMUzB0TFhaMGNXY3hPRUZCUVVGQlIxcHNaVGt3UTBwMFpXZEJFZ1ZCU1RReE9Cb0tDTXN4RUFJYUExVlRSRGdjY01zeCIsW1siSFlEIiwiMjAyNC0wNi0yOSIsIkRFTCIsbnVsbCwiQUkiLCI0MTgiXV1d'}, {'flights': [{'departure_airport': {'name': 'Rajiv Gandhi International Airport', 'id': 'HYD', 'time': '2024-06-29 20:40'}, 'arrival_airport': {'name': 'Indira Gandhi International Airport (Delhi Airport)', 'id': 'DEL', 'time': '2024-06-29 23:00'}, 'duration': 140, 'airplane': 'Boeing 777', 'airline': 'Air India', 'airline_logo': 'https://www.gstatic.com/flights/airline_logos/70px/AI.png', 'travel_class': 'Economy', 'flight_number': 'AI 840', 'legroom': '33 in', 'extensions': ['Above average legroom (33 in)', 'In-seat power & USB outlets', 'On-demand video', 'Carbon emissions estimate: 151 kg']}], 'total_duration': 140, 'carbon_emissions': {'this_flight': 151000, 'typical_for_this_route': 103000, 'difference_percent': 47}, 'price': 64, 'type': 'One way', 'airline_logo': 'https://www.gstatic.com/flights/airline_logos/70px/AI.png', 'booking_token': 'WyJDalJJVGxWVmJWaFRkR3BoYnpCQlJtcEpORkZDUnkwdExTMHRMUzB0TFhaMGNXY3hPRUZCUVVGQlIxcHNaVGt3UTBwMFpXZEJFZ1ZCU1RnME1Cb0tDTXN4RUFJYUExVlRSRGdjY01zeCIsW1siSFlEIiwiMjAyNC0wNi0yOSIsIkRFTCIsbnVsbCwiQUkiLCI4NDAiXV1d'}, {'flights': [{'departure_airport': {'name': 'Rajiv Gandhi International Airport', 'id': 'HYD', 'time': '2024-06-29 06:00'}, 'arrival_airport': {'name': 'Indira Gandhi International Airport (Delhi Airport)', 'id': 'DEL', 'time': '2024-06-29 08:15'}, 'duration': 135, 'airplane': 'Boeing 737', 'airline': 'SpiceJet', 'airline_logo': 'https://www.gstatic.com/flights/airline_logos/70px/SG.png', 'travel_class': 'Economy', 'flight_number': 'SG 160', 'legroom': '29 in', 'extensions': ['Below average legroom (29 in)', 'Stream media to your device', 'Carbon emissions estimate: 139 kg']}], 'total_duration': 135, 'carbon_emissions': {'this_flight': 140000, 'typical_for_this_route': 103000, 'difference_percent': 36}, 'price': 68, 'type': 'One way', 'airline_logo': 'https://www.gstatic.com/flights/airline_logos/70px/SG.png', 'booking_token': 'WyJDalJJVGxWVmJWaFRkR3BoYnpCQlJtcEpORkZDUnkwdExTMHRMUzB0TFhaMGNXY3hPRUZCUVVGQlIxcHNaVGt3UTBwMFpXZEJFZ1ZUUnpFMk1Cb0tDTG8wRUFJYUExVlRSRGdjY0xvMCIsW1siSFlEIiwiMjAyNC0wNi0yOSIsIkRFTCIsbnVsbCwiU0ciLCIxNjAiXV1d'}, {'flights': [{'departure_airport': {'name': 'Rajiv Gandhi International Airport', 'id': 'HYD', 'time': '2024-06-29 07:45'}, 'arrival_airport': {'name': 'Indira Gandhi International Airport (Delhi Airport)', 'id': 'DEL', 'time': '2024-06-29 09:50'}, 'duration': 125, 'airplane': 'Airbus A321neo', 'airline': 'IndiGo', 'airline_logo': 'https://www.gstatic.com/flights/airline_logos/70px/6E.png', 'travel_class': 'Economy', 'flight_number': '6E 2056', 'legroom': '29 in', 'extensions': ['Below average legroom (29 in)', 'Carbon emissions estimate: 94 kg']}], 'total_duration': 125, 'carbon_emissions': {'this_flight': 95000, 'typical_for_this_route': 103000, 'difference_percent': -8}, 'price': 93, 'type': 'One way', 'airline_logo': 'https://www.gstatic.com/flights/airline_logos/70px/6E.png', 'booking_token': 'WyJDalJJVGxWVmJWaFRkR3BoYnpCQlJtcEpORkZDUnkwdExTMHRMUzB0TFhaMGNXY3hPRUZCUVVGQlIxcHNaVGt3UTBwMFpXZEJFZ1kyUlRJd05UWWFDZ2lFU0JBQ0dnTlZVMFE0SEhDRVNBPT0iLFtbIkhZRCIsIjIwMjQtMDYtMjkiLCJERUwiLG51bGwsIjZFIiwiMjA1NiJdXV0='}, {'flights': [{'departure_airport': {'name': 'Rajiv Gandhi International Airport', 'id': 'HYD', 'time': '2024-06-29 07:00'}, 'arrival_airport': {'name': 'Indira Gandhi International Airport (Delhi Airport)', 'id': 'DEL', 'time': '2024-06-29 09:05'}, 'duration': 125, 'airplane': 'Airbus A320', 'airline': 'Vistara', 'airline_logo': 'https://www.gstatic.com/flights/airline_logos/70px/UK.png', 'travel_class': 'Economy', 'flight_number': 'UK 860', 'legroom': '29 in', 'extensions': ['Below average legroom (29 in)', 'In-seat USB outlet', 'Stream media to your device', 'Carbon emissions estimate: 123 kg']}], 'total_duration': 125, 'carbon_emissions': {'this_flight': 124000, 'typical_for_this_route': 103000, 'difference_percent': 20}, 'type': 'One way', 'airline_logo': 'https://www.gstatic.com/flights/airline_logos/70px/UK.png', 'booking_token': 'WyJDalJJVGxWVmJWaFRkR3BoYnpCQlJtcEpORkZDUnkwdExTMHRMUzB0TFhaMGNXY3hPRUZCUVVGQlIxcHNaVGt3UTBwMFpXZEJFZ1ZWU3pnMk1EZ2MiLFtbIkhZRCIsIjIwMjQtMDYtMjkiLCJERUwiLG51bGwsIlVLIiwiODYwIl1dXQ=='}, {'flights': [{'departure_airport': {'name': 'Rajiv Gandhi International Airport', 'id': 'HYD', 'time': '2024-06-29 17:40'}, 'arrival_airport': {'name': 'Indira Gandhi International Airport (Delhi Airport)', 'id': 'DEL', 'time': '2024-06-29 19:55'}, 'duration': 135, 'airplane': 'Airbus A320', 'airline': 'Vistara', 'airline_logo': 'https://www.gstatic.com/flights/airline_logos/70px/UK.png', 'travel_class': 'Economy', 'flight_number': 'UK 890', 'legroom': '29 in', 'extensions': ['Below average legroom (29 in)', 'In-seat USB outlet', 'Stream media to your device', 'Carbon emissions estimate: 123 kg'], 'often_delayed_by_over_30_min': True}], 'total_duration': 135, 'carbon_emissions': {'this_flight': 124000, 'typical_for_this_route': 103000, 'difference_percent': 20}, 'type': 'One way', 'airline_logo': 'https://www.gstatic.com/flights/airline_logos/70px/UK.png', 'booking_token': 'WyJDalJJVGxWVmJWaFRkR3BoYnpCQlJtcEpORkZDUnkwdExTMHRMUzB0TFhaMGNXY3hPRUZCUVVGQlIxcHNaVGt3UTBwMFpXZEJFZ1ZWU3pnNU1EZ2MiLFtbIkhZRCIsIjIwMjQtMDYtMjkiLCJERUwiLG51bGwsIlVLIiwiODkwIl1dXQ=='}, {'flights': [{'departure_airport': {'name': 'Rajiv Gandhi International Airport', 'id': 'HYD', 'time': '2024-06-29 18:30'}, 'arrival_airport': {'name': 'Indira Gandhi International Airport (Delhi Airport)', 'id': 'DEL', 'time': '2024-06-29 20:45'}, 'duration': 135, 'airplane': 'Airbus A320', 'airline': 'Vistara', 'airline_logo': 'https://www.gstatic.com/flights/airline_logos/70px/UK.png', 'travel_class': 'Economy', 'flight_number': 'UK 880', 'legroom': '29 in', 'extensions': ['Below average legroom (29 in)', 'In-seat USB outlet', 'Stream media to your device', 'Carbon emissions estimate: 123 kg']}], 'total_duration': 135, 'carbon_emissions': {'this_flight': 124000, 'typical_for_this_route': 103000, 'difference_percent': 20}, 'type': 'One way', 'airline_logo': 'https://www.gstatic.com/flights/airline_logos/70px/UK.png', 'booking_token': 'WyJDalJJVGxWVmJWaFRkR3BoYnpCQlJtcEpORkZDUnkwdExTMHRMUzB0TFhaMGNXY3hPRUZCUVVGQlIxcHNaVGt3UTBwMFpXZEJFZ1ZWU3pnNE1EZ2MiLFtbIkhZRCIsIjIwMjQtMDYtMjkiLCJERUwiLG51bGwsIlVLIiwiODgwIl1dXQ=='}, {'flights': [{'departure_airport': {'name': 'Rajiv Gandhi International Airport', 'id': 'HYD', 'time': '2024-06-29 20:35'}, 'arrival_airport': {'name': 'Indira Gandhi International Airport (Delhi Airport)', 'id': 'DEL', 'time': '2024-06-29 22:45'}, 'duration': 130, 'airplane': 'Airbus A320', 'airline': 'Vistara', 'airline_logo': 'https://www.gstatic.com/flights/airline_logos/70px/UK.png', 'travel_class': 'Economy', 'flight_number': 'UK 870', 'legroom': '29 in', 'extensions': ['Below average legroom (29 in)', 'In-seat USB outlet', 'Stream media to your device', 'Carbon emissions estimate: 123 kg'], 'often_delayed_by_over_30_min': True}], 'total_duration': 130, 'carbon_emissions': {'this_flight': 124000, 'typical_for_this_route': 103000, 'difference_percent': 20}, 'type': 'One way', 'airline_logo': 'https://www.gstatic.com/flights/airline_logos/70px/UK.png', 'booking_token': 'WyJDalJJVGxWVmJWaFRkR3BoYnpCQlJtcEpORkZDUnkwdExTMHRMUzB0TFhaMGNXY3hPRUZCUVVGQlIxcHNaVGt3UTBwMFpXZEJFZ1ZWU3pnM01EZ2MiLFtbIkhZRCIsIjIwMjQtMDYtMjkiLCJERUwiLG51bGwsIlVLIiwiODcwIl1dXQ=='}], 'price_insights': {'lowest_price': 49, 'price_level': 'low', 'typical_price_range': [50, 65], 'price_history': [[1712687400, 61], [1712773800, 61], [1712860200, 61], [1712946600, 61], [1713033000, 61], [1713119400, 61], [1713205800, 61], [1713292200, 61], [1713378600, 62], [1713465000, 62], [1713551400, 62], [1713637800, 62], [1713724200, 62], [1713810600, 62], [1713897000, 62], [1713983400, 62], [1714069800, 62], [1714156200, 62], [1714242600, 62], [1714329000, 62], [1714415400, 55], [1714501800, 55], [1714588200, 55], [1714674600, 55], [1714761000, 55], [1714847400, 55], [1714933800, 55], [1715020200, 55], [1715106600, 55], [1715193000, 55], [1715279400, 55], [1715365800, 55], [1715452200, 55], [1715538600, 55], [1715625000, 55], [1715711400, 55], [1715797800, 64], [1715884200, 62], [1715970600, 64], [1716057000, 64], [1716143400, 64], [1716229800, 64], [1716316200, 58], [1716402600, 58], [1716489000, 58], [1716575400, 58], [1716661800, 58], [1716748200, 58], [1716834600, 58], [1716921000, 58], [1717007400, 56], [1717093800, 58], [1717180200, 58], [1717266600, 58], [1717353000, 58], [1717439400, 58], [1717525800, 55], [1717612200, 55], [1717698600, 49], [1717785000, 49], [1717871400, 49]]}}\n"
     ]
    }
   ],
   "source": [
    "chosen_function = eval(output.function_call.name)\n",
    "flight = chosen_function(**params)\n",
    "#print(chosen_function)\n",
    "print(flight)"
   ]
  },
  {
   "cell_type": "code",
   "execution_count": 55,
   "metadata": {},
   "outputs": [
    {
     "name": "stdout",
     "output_type": "stream",
     "text": [
      "get_flight_details\n"
     ]
    }
   ],
   "source": [
    "new_name=output.function_call.name\n",
    "print(new_name)"
   ]
  },
  {
   "cell_type": "code",
   "execution_count": 56,
   "metadata": {},
   "outputs": [
    {
     "name": "stdout",
     "output_type": "stream",
     "text": [
      "### Flights from Hyderabad to Delhi on 2024-06-29:\n",
      "\n",
      "1. **Flight 1:**\n",
      "   - Airline: IndiGo\n",
      "   - Departure: Rajiv Gandhi International Airport, HYD at 10:30\n",
      "   - Arrival: Indira Gandhi International Airport (Delhi Airport), DEL at 12:45\n",
      "   - Duration: 2h 15m\n",
      "   - Airplane: Airbus A321neo\n",
      "   - Travel Class: Economy\n",
      "   - Flight Number: 6E 6202\n",
      "   - Legroom: 29 in\n",
      "   - Carbon Emissions Estimate: 98 kg\n",
      "   - Price: $49\n",
      "\n",
      "2. **Flight 2:**\n",
      "   - Airline: IndiGo\n",
      "   - Departure: Rajiv Gandhi International Airport, HYD at 12:00\n",
      "   - Arrival: Indira Gandhi International Airport (Delhi Airport), DEL at 14:20\n",
      "   - Duration: 2h 20m\n",
      "   - Airplane: Airbus A321neo\n",
      "   - Travel Class: Economy\n",
      "   - Flight Number: 6E 6031\n",
      "   - Legroom: 29 in\n",
      "   - Carbon Emissions Estimate: 94 kg\n",
      "   - Price: $49\n",
      "\n",
      "3. **Flight 3:**\n",
      "   - Airline: Air India\n",
      "   - Departure: Rajiv Gandhi International Airport, HYD at 05:30\n",
      "   - Arrival: Indira Gandhi International Airport (Delhi Airport), DEL at 07:50\n",
      "   - Duration: 2h 20m\n",
      "   - Airplane: Airbus A319\n",
      "   - Travel Class: Economy\n",
      "   - Flight Number: AI 554\n",
      "   - Legroom: 31 in\n",
      "   - Carbon Emissions Estimate: 159 kg\n",
      "   - Price: $58\n",
      "\n",
      "Feel free to choose the flight that suits you best!\n"
     ]
    }
   ],
   "source": [
    "second_completion= client.chat.completions.create(\n",
    "       model=\"gpt-3.5-turbo-0125\",\n",
    "    messages=[\n",
    "        {\"role\": \"user\", \"content\": user_prompt},\n",
    "        {\"role\": \"function\", \"name\": output.function_call.name, \"content\": json.dumps(flight)\n",
    "},\n",
    "    ],\n",
    "    functions=function_description,\n",
    " )\n",
    "response = second_completion.choices[0].message.content\n",
    "print(response)"
   ]
  },
  {
   "cell_type": "code",
   "execution_count": 129,
   "metadata": {},
   "outputs": [
    {
     "name": "stdout",
     "output_type": "stream",
     "text": [
      "{\"error\": \"`departure_id` (\\\"Hyderabad\\\") should either be an uppercase 3-letter code or start with \\\"/m\\\".\"}\n"
     ]
    }
   ],
   "source": [
    "print(json.dumps(flight))"
   ]
  }
 ],
 "metadata": {
  "kernelspec": {
   "display_name": "Python 3",
   "language": "python",
   "name": "python3"
  },
  "language_info": {
   "codemirror_mode": {
    "name": "ipython",
    "version": 3
   },
   "file_extension": ".py",
   "mimetype": "text/x-python",
   "name": "python",
   "nbconvert_exporter": "python",
   "pygments_lexer": "ipython3",
   "version": "3.10.14"
  }
 },
 "nbformat": 4,
 "nbformat_minor": 2
}
